{
 "cells": [
  {
   "cell_type": "markdown",
   "id": "a622dcaa-b80a-4091-8ed4-fc8e06bc7d05",
   "metadata": {},
   "source": [
    "# Python data types\n",
    "### In Python data types are divided into two categories:\n",
    "## Mutable \n",
    "### Mutable data type objects can change their state or content, i.e List, Dictionary, Byte Array.\n",
    "# Immutable\n",
    "### Immutable data types objects can’t change their state or content.\n"
   ]
  },
  {
   "cell_type": "markdown",
   "id": "250217ed-76c4-4521-a8d5-ea8b49bac74d",
   "metadata": {},
   "source": [
    "# integer datatype\n",
    "### integer holds signed integers of non-limited length."
   ]
  },
  {
   "cell_type": "code",
   "execution_count": 18,
   "id": "a0059501-6be7-402e-8cac-6a959253b2b8",
   "metadata": {},
   "outputs": [
    {
     "name": "stdout",
     "output_type": "stream",
     "text": [
      "<class 'int'> 5.0 True 5\n"
     ]
    }
   ],
   "source": [
    "a=5\n",
    "print(type(a), float(a), bool(a), str(a))"
   ]
  },
  {
   "cell_type": "markdown",
   "id": "859bd2a6-b16a-4e91-9a4c-8e8ca1ac5d0f",
   "metadata": {},
   "source": [
    "# float datatype\n",
    "### float-holds floating precision numbers, and it’s accurate up to 15 decimal places."
   ]
  },
  {
   "cell_type": "code",
   "execution_count": 24,
   "id": "0f8bfa46-55de-49b5-88be-a3350e76fbb6",
   "metadata": {},
   "outputs": [
    {
     "name": "stdout",
     "output_type": "stream",
     "text": [
      "<class 'float'> 5 True 5.0\n"
     ]
    }
   ],
   "source": [
    "a=5.0\n",
    "print(type(a), int(a), bool(a), str(a))"
   ]
  },
  {
   "cell_type": "markdown",
   "id": "5ac74f68-04bf-40b8-beeb-f92cfd3dc474",
   "metadata": {},
   "source": [
    "# complex datatype\n",
    "### complex-holds complex numbers."
   ]
  },
  {
   "cell_type": "code",
   "execution_count": 25,
   "id": "afba4e2d-9fa8-4c9d-b66d-3de33d5047b9",
   "metadata": {},
   "outputs": [
    {
     "name": "stdout",
     "output_type": "stream",
     "text": [
      "<class 'complex'> (5+6j) (5+6j) True\n"
     ]
    }
   ],
   "source": [
    "c=5+6j\n",
    "print(type(c), c, str(c), bool(c))"
   ]
  },
  {
   "cell_type": "markdown",
   "id": "3e51c575-238c-4118-aaae-a4fbf2699430",
   "metadata": {},
   "source": [
    "# boolean datatype\n",
    "### The boolean data type is either True or False."
   ]
  },
  {
   "cell_type": "code",
   "execution_count": 30,
   "id": "0789244d-86eb-4818-9795-a24d212e1155",
   "metadata": {},
   "outputs": [
    {
     "name": "stdout",
     "output_type": "stream",
     "text": [
      "<class 'bool'> True True 1 1.0\n"
     ]
    }
   ],
   "source": [
    "b=True\n",
    "print(type(b),b,str(b),int(b),float(b))"
   ]
  },
  {
   "cell_type": "markdown",
   "id": "245a2820-2b76-4968-8db8-a5575cc6d208",
   "metadata": {},
   "source": [
    "# String Datatype\n",
    "### A string is a collection of one or more characters put in a single quote, double or triple quote. Multi Lines string can be denoted using triple lines quotes. Python supports Unicode characters and is represented by either single, double-quotes or triple quotes."
   ]
  },
  {
   "cell_type": "code",
   "execution_count": 47,
   "id": "d969e43a-9cb1-4c7e-9eb1-a9a87144cb36",
   "metadata": {},
   "outputs": [
    {
     "name": "stdout",
     "output_type": "stream",
     "text": [
      "<class 'str'> message or prompt True\n",
      "\n",
      "MULTI\n",
      "LINES\n",
      "\n"
     ]
    }
   ],
   "source": [
    "s=\"messageorprompt\"\n",
    "print(type(s),s,bool(s))\n",
    "s2=\"\"\"\n",
    "MULTI\n",
    "LINES\n",
    "\"\"\"\n",
    "print(s2)"
   ]
  },
  {
   "cell_type": "markdown",
   "id": "64387e9b-2ec4-4326-95a2-9a3895267fdf",
   "metadata": {},
   "source": [
    "## Different functionality implemets on string datatypes :uppercase,lower case,reverse order,split"
   ]
  },
  {
   "cell_type": "code",
   "execution_count": 51,
   "id": "d12d6ad1-f3c7-4b73-9c89-7b8a23576b0d",
   "metadata": {},
   "outputs": [
    {
     "name": "stdout",
     "output_type": "stream",
     "text": [
      "MESSAGE OR PROMPT\n",
      "\n",
      "multi\n",
      "lines\n",
      "\n",
      "tpmorp ro egassem\n",
      "['message', 'or', 'prompt']\n"
     ]
    }
   ],
   "source": [
    "print(s.upper())\n",
    "print(s2.lower())\n",
    "print(s[::-1])\n",
    "print(s.split())"
   ]
  },
  {
   "cell_type": "markdown",
   "id": "3106ef19-bfdf-4714-9ccf-2bae85f0d8d5",
   "metadata": {},
   "source": [
    "# Lists\n",
    "## Sequence types: list, tuple, range:Python can simultaneously hold different types of data (heterogeneous type values), data written using square brackets([]) and separated by commas(,). Lists is a built-in data structure and treated as a dynamic array, and it can also contain duplicate elements. It is one of the most used data types in python, and it is very flexible. List provides a wide variety of methods and functions. The most common associated methods of lists are\n",
    "## list(), append(), insert(), extend(), sort(), reverse(), remove(), pop(), clear() etc."
   ]
  },
  {
   "cell_type": "code",
   "execution_count": 67,
   "id": "4555844d-12a0-4c86-b58b-a80794dd7d66",
   "metadata": {},
   "outputs": [
    {
     "name": "stdout",
     "output_type": "stream",
     "text": [
      "<class 'list'> [1, 3, 5, 7, 5, 9]\n"
     ]
    }
   ],
   "source": [
    "l1=[1,3,5,7,5,9]\n",
    "l2=[2,4,6,8]\n",
    "print(type(l1), l1)"
   ]
  },
  {
   "cell_type": "markdown",
   "id": "a83f2038-a73b-4ab6-903d-3eec5e767fb3",
   "metadata": {},
   "source": [
    "## Different functionality implemets on list datatypes like list(), append(), insert(), extend(), sort(), reverse(), remove(), pop(), clear() etc."
   ]
  },
  {
   "cell_type": "code",
   "execution_count": 68,
   "id": "cf52cd44-1778-4e5b-ad0e-fa6bb2f4effd",
   "metadata": {},
   "outputs": [
    {
     "name": "stdout",
     "output_type": "stream",
     "text": [
      "None [1, 3, 5, 7, 5, 9, 11]\n"
     ]
    }
   ],
   "source": [
    "print(l1.append(11),l1)  #  insert elements at the end of the list"
   ]
  },
  {
   "cell_type": "code",
   "execution_count": 69,
   "id": "0a908f48-af08-4fa2-8b91-d4dad1e3152f",
   "metadata": {},
   "outputs": [
    {
     "name": "stdout",
     "output_type": "stream",
     "text": [
      "None [1, 3, 12, 5, 7, 5, 9, 11]\n"
     ]
    }
   ],
   "source": [
    "print(l1.insert(2,12),l1)  # insert elements in lists at specific points"
   ]
  },
  {
   "cell_type": "code",
   "execution_count": 70,
   "id": "5cf52921-538d-4dbc-89b6-f9e1ac094fcb",
   "metadata": {},
   "outputs": [
    {
     "name": "stdout",
     "output_type": "stream",
     "text": [
      "None [1, 3, 12, 5, 7, 5, 9, 11, 2, 4, 6, 8]\n"
     ]
    }
   ],
   "source": [
    "print(l1.extend(l2),l1) # add list into an new and existing list "
   ]
  },
  {
   "cell_type": "code",
   "execution_count": 71,
   "id": "ed85239c-58e5-494c-88a0-aa6efc05d3a4",
   "metadata": {},
   "outputs": [
    {
     "name": "stdout",
     "output_type": "stream",
     "text": [
      "[1, 2, 3, 4, 5, 5, 6, 7, 8, 9, 11, 12]\n",
      "None [1, 2, 3, 4, 5, 5, 6, 7, 8, 9, 11, 12]\n"
     ]
    }
   ],
   "source": [
    "print(sorted(l1)) # for sorting the list variable is passed in a function\n",
    "print(l1.sort(),l1) # sorted and then show the list"
   ]
  },
  {
   "cell_type": "code",
   "execution_count": 72,
   "id": "c373d4fb-0e2f-4391-8bce-a74bc056507c",
   "metadata": {},
   "outputs": [
    {
     "name": "stdout",
     "output_type": "stream",
     "text": [
      "None [12, 11, 9, 8, 7, 6, 5, 5, 4, 3, 2, 1]\n"
     ]
    }
   ],
   "source": [
    "print(l1.reverse(),l1) # for reversing the list"
   ]
  },
  {
   "cell_type": "code",
   "execution_count": 73,
   "id": "7e5aa75b-b536-4b26-b563-1ef8298e3b18",
   "metadata": {},
   "outputs": [
    {
     "name": "stdout",
     "output_type": "stream",
     "text": [
      "9 [12, 11, 8, 7, 6, 5, 5, 4, 3, 2, 1]\n"
     ]
    }
   ],
   "source": [
    "print(l1.pop(2),l1) # for poping or removing an element from specific index"
   ]
  },
  {
   "cell_type": "code",
   "execution_count": 75,
   "id": "a9487790-dbfa-4871-a299-3c73edf9886d",
   "metadata": {},
   "outputs": [
    {
     "name": "stdout",
     "output_type": "stream",
     "text": [
      "None [12, 11, 8, 7, 6, 5, 4, 3, 2, 1]\n"
     ]
    }
   ],
   "source": [
    "print(l1.remove(5),l1) # directly remove elements from list"
   ]
  },
  {
   "cell_type": "code",
   "execution_count": 83,
   "id": "8d836b30-7cd4-41d6-a38c-3101f82779d9",
   "metadata": {},
   "outputs": [
    {
     "name": "stdout",
     "output_type": "stream",
     "text": [
      "4 [2, 4, 6, 8]\n"
     ]
    }
   ],
   "source": [
    "print(len(l2),l2) # for finding the length of the list"
   ]
  },
  {
   "cell_type": "code",
   "execution_count": 88,
   "id": "48a6279f-671f-4885-95d0-ff38848088cd",
   "metadata": {},
   "outputs": [
    {
     "name": "stdout",
     "output_type": "stream",
     "text": [
      "3\n"
     ]
    }
   ],
   "source": [
    "print(l2.index(8)) #to find the element on specific index position."
   ]
  },
  {
   "cell_type": "code",
   "execution_count": 96,
   "id": "03798a05-2765-4af0-a41a-a935e293b634",
   "metadata": {},
   "outputs": [
    {
     "name": "stdout",
     "output_type": "stream",
     "text": [
      "4\n"
     ]
    }
   ],
   "source": [
    "print(l2[1])"
   ]
  },
  {
   "cell_type": "code",
   "execution_count": 76,
   "id": "3b3b7692-ebe4-496e-a771-f77327985077",
   "metadata": {},
   "outputs": [
    {
     "name": "stdout",
     "output_type": "stream",
     "text": [
      "None []\n"
     ]
    }
   ],
   "source": [
    "print(l1.clear(),l1) # clear all the list / empty the list"
   ]
  },
  {
   "cell_type": "markdown",
   "id": "f61a904c-9d65-4395-9f6a-faf48f23b865",
   "metadata": {},
   "source": [
    "# Tuple \n",
    "## Data in a tuple is written using parentheses and separated by commas. Tuple is also a built-in data structure in python which is somewhat similar to lists data structures in python. It is immutable. A tuple is an immutable object that stores the elements in an ordered manner (That means data in a tuple is write-protected). We cannot change the elements of the tuple or the tuple itself, once it's assigned, whereas we can change the elements of the list as they are mutable.Tuple provides a wide variety of methods and functions. We can put heterogeneous type values inside the tuples. The most common associated methods of tuples are :\n",
    "# tuple(), count(), index() etc."
   ]
  },
  {
   "cell_type": "code",
   "execution_count": 82,
   "id": "30feb813-65ef-4f5a-a6ef-a6ac77994f3a",
   "metadata": {},
   "outputs": [
    {
     "name": "stdout",
     "output_type": "stream",
     "text": [
      "<class 'tuple'> (20, 30, 30, 40, 'st', 6.5)\n"
     ]
    }
   ],
   "source": [
    "t1=(20,30,30,40,'st',6.5)\n",
    "print(type(t1),t1)"
   ]
  },
  {
   "cell_type": "code",
   "execution_count": 91,
   "id": "df9882e4-be41-42d5-869b-c50643f0ecc8",
   "metadata": {},
   "outputs": [
    {
     "name": "stdout",
     "output_type": "stream",
     "text": [
      "2\n"
     ]
    }
   ],
   "source": [
    "print(t1.count(30)) #to count the element how much appear in a list"
   ]
  },
  {
   "cell_type": "code",
   "execution_count": 92,
   "id": "890a4605-6a9b-4293-b5d5-ae814ba61474",
   "metadata": {},
   "outputs": [
    {
     "name": "stdout",
     "output_type": "stream",
     "text": [
      "3\n"
     ]
    }
   ],
   "source": [
    "print(t1.index(40)) # "
   ]
  },
  {
   "cell_type": "code",
   "execution_count": 95,
   "id": "a88ca27c-1bf3-411c-a90a-46ff978eab69",
   "metadata": {},
   "outputs": [
    {
     "name": "stdout",
     "output_type": "stream",
     "text": [
      "6.5\n"
     ]
    }
   ],
   "source": [
    "print(t1[5])"
   ]
  },
  {
   "cell_type": "code",
   "execution_count": 99,
   "id": "f0b85ed1-772a-4397-878d-95a8978e744a",
   "metadata": {},
   "outputs": [
    {
     "name": "stdout",
     "output_type": "stream",
     "text": [
      "False\n"
     ]
    }
   ],
   "source": [
    "print(100 in t1) # to find the element in list / membership test?"
   ]
  },
  {
   "cell_type": "markdown",
   "id": "1918cbf0-24f6-4d3d-8904-1ddf077f664b",
   "metadata": {},
   "source": [
    "## In conclusion, lists and tuples in Python differ primarily in their mutability, syntax, use cases, and performance characteristics:\n",
    "## Mutability:\n",
    "### Lists: Mutable, allowing for modification, addition, and removal of elements.\n",
    "### Tuples: Immutable, prohibiting changes once created.\n",
    "## Syntax:\n",
    "### Lists: Created using square brackets [].\n",
    "### Tuples: Created using parentheses ().\n",
    "## Use Cases:\n",
    "### Lists: Ideal for dynamic collections where elements may change over time, such as managing tasks in a to-do list.\n",
    "### Tuples: Suited for immutable collections where elements remain constant, like storing fixed data sets such as coordinates or database records.\n",
    "## Performance:\n",
    "### Lists: Due to mutability, lists may consume more memory and exhibit slower performance for certain operations.\n",
    "### Tuples: Being immutable, tuples tend to be more memory-efficient and can offer better performance, particularly in scenarios with large, unchanging data sets.\n"
   ]
  },
  {
   "cell_type": "markdown",
   "id": "95c985a6-e3c5-41f1-a047-63d3f4357402",
   "metadata": {},
   "source": [
    "# Range\n",
    "### Range objects are immutable sequences of numbers primarily used for iteration or looping a specific number of times.\n",
    "### The range() function generates these immutable range objects and follows a specific syntax: range(start/beginning, stop/end, step/difference).\n",
    "## Parameters of the range() function:\n",
    "### start/beginning/first: Optional parameter indicating the beginning of the iteration.\n",
    "### stop/end/last: Optional parameter indicating the end of the iteration.\n",
    "### step/difference: Specifies the number of increments made during each iteration."
   ]
  },
  {
   "cell_type": "code",
   "execution_count": 108,
   "id": "5558c714-794a-4f6e-9be1-809fc3bde573",
   "metadata": {},
   "outputs": [
    {
     "name": "stdout",
     "output_type": "stream",
     "text": [
      "<class 'range'> range(0, 5)\n",
      "[0, 1, 2, 3, 4]\n"
     ]
    }
   ],
   "source": [
    "r=range(5)\n",
    "print(type(r), r)\n",
    "print(list(r))"
   ]
  },
  {
   "cell_type": "code",
   "execution_count": 110,
   "id": "2d4aa7b6-1c2c-46c6-b4e0-ef2377084000",
   "metadata": {},
   "outputs": [
    {
     "name": "stdout",
     "output_type": "stream",
     "text": [
      "[0, 10, 20, 30, 40, 50, 60, 70, 80, 90]\n"
     ]
    }
   ],
   "source": [
    "print(list(range(0, 100, 10)))"
   ]
  },
  {
   "cell_type": "code",
   "execution_count": 112,
   "id": "8a6b7119-a608-413b-aa60-48c1cc8ceb9e",
   "metadata": {},
   "outputs": [
    {
     "name": "stdout",
     "output_type": "stream",
     "text": [
      "0\n",
      "20\n",
      "40\n",
      "60\n",
      "80\n"
     ]
    }
   ],
   "source": [
    "for i in range(0, 100, 20):\n",
    " print(i)"
   ]
  },
  {
   "cell_type": "markdown",
   "id": "f665430c-c5cf-40f0-bdcb-1b3407485bc6",
   "metadata": {},
   "source": [
    "# Mapping data type: https:\n",
    "## Dictionaries are Python’s implementation of a data structure that is more generally known as an associative array. A dictionary consists of a collection of key-value pairs. Each key-value pair maps the key to its associated value \n",
    "You can define a dictionary by enclosing a comma-separated list of key-value pairs in curly braces ({}). A colon (:) separates each key from its associated value\n",
    "### https://realpython.com/python-dicts/:"
   ]
  },
  {
   "cell_type": "code",
   "execution_count": 25,
   "id": "893b26d5-16a1-4e79-828d-54af1cd38c3a",
   "metadata": {},
   "outputs": [
    {
     "name": "stdout",
     "output_type": "stream",
     "text": [
      "<class 'dict'> Rockies {'Colorado': 'Rockies', 'Boston': 'Red Sox', 'Milwaukee': 'Brewers', 'Seattle': 'irfan', 'pakistan': 'Tabasum'}\n"
     ]
    }
   ],
   "source": [
    "team = dict([\n",
    "     ('Colorado', 'Rockies'),\n",
    "     ('Boston', 'Red Sox'),\n",
    "     ('Minnesota', 'Twins'),\n",
    "     ('Milwaukee', 'Brewers'),\n",
    "     ('Seattle', 'Mariners')\n",
    "])\n",
    "del team['Minnesota']    # delete a particular key and value from dictionary\n",
    "team ['Seattle']= 'irfan' # updating the value for the key\n",
    "team['pakistan']='Tabasum' # adding new key and values in dictionary\n",
    "print(type(team),team['Colorado'],team) \n"
   ]
  },
  {
   "cell_type": "markdown",
   "id": "166bea2a-990a-4204-baf6-103a10bc016e",
   "metadata": {},
   "source": [
    "## 2 way of creating dictionary"
   ]
  },
  {
   "cell_type": "code",
   "execution_count": 27,
   "id": "95eec861-23e1-4121-ae64-10fb1bdf49bb",
   "metadata": {},
   "outputs": [
    {
     "name": "stdout",
     "output_type": "stream",
     "text": [
      "{'Colorado': 'Rockies', 'Boston': 'Red Sox'}\n"
     ]
    }
   ],
   "source": [
    "\n",
    "teams = dict(\n",
    "     Colorado = 'Rockies',\n",
    "     Boston = 'Red Sox'\n",
    ")\n",
    "print(teams)"
   ]
  },
  {
   "cell_type": "markdown",
   "id": "be3b39e7-ba55-4878-bad8-ff817ac912b4",
   "metadata": {},
   "source": [
    "## 3 way of creating dictionary"
   ]
  },
  {
   "cell_type": "code",
   "execution_count": 26,
   "id": "63ad1ed0-5cd1-4c99-a15f-621b6b043ada",
   "metadata": {},
   "outputs": [
    {
     "name": "stdout",
     "output_type": "stream",
     "text": [
      "{11: 'irfan', 1: 'Tabasum'}\n"
     ]
    },
    {
     "data": {
      "text/plain": [
       "'irfan'"
      ]
     },
     "execution_count": 26,
     "metadata": {},
     "output_type": "execute_result"
    }
   ],
   "source": [
    "\n",
    "teamss = {}\n",
    "teamss[11]='irfan'\n",
    "teamss[1]='Tabasum'\n",
    "print(teamss)\n",
    "teamss[11]\n"
   ]
  },
  {
   "cell_type": "code",
   "execution_count": 50,
   "id": "34b8ba6d-5cb6-4458-9535-549e3d19f082",
   "metadata": {},
   "outputs": [
    {
     "name": "stdout",
     "output_type": "stream",
     "text": [
      "<class 'bytes'>\n",
      "b'hello'\n",
      "<class 'bytearray'>\n",
      "hello\n"
     ]
    }
   ],
   "source": [
    "ascii = b'hello'   # b in this string dedicated to byte \n",
    "print(type(ascii))\n",
    "print(ascii)\n",
    "print(type(bytearray(ascii)))\n",
    "decode= ascii.decode('utf-8')\n",
    "print(decode)\n",
    "\n"
   ]
  },
  {
   "cell_type": "code",
   "execution_count": null,
   "id": "deda07f2-c91c-4877-adb3-e875e5d6fc09",
   "metadata": {},
   "outputs": [],
   "source": []
  }
 ],
 "metadata": {
  "kernelspec": {
   "display_name": "Python 3 (ipykernel)",
   "language": "python",
   "name": "python3"
  },
  "language_info": {
   "codemirror_mode": {
    "name": "ipython",
    "version": 3
   },
   "file_extension": ".py",
   "mimetype": "text/x-python",
   "name": "python",
   "nbconvert_exporter": "python",
   "pygments_lexer": "ipython3",
   "version": "3.11.7"
  }
 },
 "nbformat": 4,
 "nbformat_minor": 5
}
